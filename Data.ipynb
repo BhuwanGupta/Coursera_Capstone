{
 "cells": [
  {
   "cell_type": "markdown",
   "metadata": {},
   "source": [
    "# Capstone Project - The Battle of Neighborhoods (Week 4)\n",
    "\n",
    "## Data Used\n",
    "\n",
    "### City Analysed- London\n",
    "\n",
    "### List of areas of London and London Boroughs\n",
    "Website-https://en.wikipedia.org/wiki/List_of_areas_of_London\n",
    "\n",
    "### List of latest housing prices in London\n",
    "Website-https://propertydata.co.uk/cities/london\n",
    "\n",
    "### Foursquare API\n",
    "Website-https://developer.foursquare.com\n",
    "\n",
    "### GeoJson file of London Boroughs\n",
    "Website-https://joshuaboyd1.carto.com/tables/london_boroughs_pro\n",
    "per/public\n",
    "\n",
    "### London Boroughs Outilne\n",
    "Website-https://skgrange.github.io/www/data/london_boroughs.json"
   ]
  }
 ],
 "metadata": {
  "kernelspec": {
   "display_name": "Python 3",
   "language": "python",
   "name": "python3"
  },
  "language_info": {
   "codemirror_mode": {
    "name": "ipython",
    "version": 3
   },
   "file_extension": ".py",
   "mimetype": "text/x-python",
   "name": "python",
   "nbconvert_exporter": "python",
   "pygments_lexer": "ipython3",
   "version": "3.7.6"
  }
 },
 "nbformat": 4,
 "nbformat_minor": 4
}
