{
 "cells": [
  {
   "cell_type": "markdown",
   "metadata": {},
   "source": [
    "# Capstone Project - The Battle of Neighborhoods (Week 4)\n",
    "\n",
    "## Data Used\n",
    "\n",
    "City Analysed- London\n",
    "\n",
    "Data from wikipedia consist of all the areas from London with respective Borough,Post town and Postcode District,etc.Some of these were of no use in the analysis so they were removed.\n",
    "\n",
    "Data of housing price contain Area code, average price, average yield, price per square feet,etc. Some of these were of no use in the analysis so they were removed.\n",
    "\n",
    "Gejson file and the outline file is for generating map of London.\n",
    "\n",
    "### List of areas of London and London Boroughs\n",
    "Website-https://en.wikipedia.org/wiki/List_of_areas_of_London\n",
    "\n",
    "### List of latest housing prices in London\n",
    "Website-https://propertydata.co.uk/cities/london\n",
    "\n",
    "### Foursquare API\n",
    "Website-https://developer.foursquare.com\n",
    "\n",
    "### GeoJson file of London Boroughs\n",
    "Website-https://joshuaboyd1.carto.com/tables/london_boroughs_pro\n",
    "per/public\n",
    "\n",
    "### London Boroughs Outilne\n",
    "Website-https://skgrange.github.io/www/data/london_boroughs.json"
   ]
  }
 ],
 "metadata": {
  "kernelspec": {
   "display_name": "Python 3",
   "language": "python",
   "name": "python3"
  },
  "language_info": {
   "codemirror_mode": {
    "name": "ipython",
    "version": 3
   },
   "file_extension": ".py",
   "mimetype": "text/x-python",
   "name": "python",
   "nbconvert_exporter": "python",
   "pygments_lexer": "ipython3",
   "version": "3.7.6"
  }
 },
 "nbformat": 4,
 "nbformat_minor": 4
}
