{
 "cells": [
  {
   "cell_type": "markdown",
   "metadata": {},
   "source": [
    "# Capstone Project - The Battle of Neighborhoods (Week 4)\n",
    "\n",
    "\n",
    "## Background\n",
    " \n",
    "London is the capital of United Kingdom and is the largest city in UK. With the largest municipal population in the European Union, London has a diverse range of people and cultures, and more than 300 languages are spoken in the region.\n",
    "\n",
    "Its estimated population is 9.30 million according to the UN's World Urbanization Prospects, the most populous city in the European Union and accounting for 13.4% of the UK population.\n",
    "\n",
    "London’s urban area is the second most populous in the EU, after Paris, with 9,787,426 inhabitants at the 2011 census. The population density is 14,500/sq mi. \n",
    "\n",
    "## Problem\n",
    "\n",
    "London is a city with a high population and population density.\n",
    "\n",
    "As from Real Estate investor point of view we want to invest in such places were the housing prices are low and the facilities (shops, restaurants, parks, Hotels, etc.) and social venues are nearby. \n",
    "\n",
    "Keeping above things in mind it is very difficult for an individual to find such place in such big city and gather this much information. When we consider all these problems, we can create a map and information chart where the real estate index is placed on London and each district is clustered according to the venues."
   ]
  }
 ],
 "metadata": {
  "kernelspec": {
   "display_name": "Python 3",
   "language": "python",
   "name": "python3"
  },
  "language_info": {
   "codemirror_mode": {
    "name": "ipython",
    "version": 3
   },
   "file_extension": ".py",
   "mimetype": "text/x-python",
   "name": "python",
   "nbconvert_exporter": "python",
   "pygments_lexer": "ipython3",
   "version": "3.7.6"
  }
 },
 "nbformat": 4,
 "nbformat_minor": 4
}
